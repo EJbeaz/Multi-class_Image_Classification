{
 "cells": [
  {
   "cell_type": "code",
   "execution_count": 2,
   "metadata": {},
   "outputs": [],
   "source": [
    "%matplotlib inline\n",
    "import os\n",
    "import cv2\n",
    "import numpy as np\n",
    "import pandas as pd\n",
    "import matplotlib.pyplot as plt\n",
    "from sklearn.tree import DecisionTreeClassifier\n",
    "from sklearn.metrics import accuracy_score, recall_score, precision_score, f1_score, confusion_matrix, ConfusionMatrixDisplay\n",
    "from sklearn.model_selection import GridSearchCV, KFold\n",
    "import random\n",
    "from sklearn.model_selection import train_test_split\n",
    "import pandas as pd\n",
    "import os\n",
    "from skimage.transform import resize\n",
    "from skimage.io import imread\n",
    "import numpy as np\n",
    "from sklearn.model_selection import KFold\n",
    "import matplotlib.pyplot as plt\n",
    "from sklearn import svm\n",
    "from sklearn.model_selection import GridSearchCV\n",
    "from sklearn.model_selection import train_test_split\n",
    "from sklearn.metrics import accuracy_score\n",
    "from sklearn.metrics import classification_report"
   ]
  },
  {
   "cell_type": "code",
   "execution_count": 3,
   "metadata": {},
   "outputs": [
    {
     "name": "stdout",
     "output_type": "stream",
     "text": [
      "loading... category : dog\n",
      "loaded category:dog successfully\n",
      "loading... category : panda\n",
      "loaded category:panda successfully\n",
      "loading... category : cat\n",
      "loaded category:cat successfully\n"
     ]
    }
   ],
   "source": [
    "# LOAD DATA AND and preprocess the data \n",
    "# animal categories\n",
    "categories = ['dog', 'panda', 'cat']\n",
    "flat_data_arr=[] #input array\n",
    "target_arr=[] #output array\n",
    "datadir='/Users/ejbeazleigh/Downloads/Animals/' \n",
    "#path which contains all the categories of images\n",
    "for i in categories:\n",
    "    print(f'loading... category : {i}')\n",
    "    path=os.path.join(datadir,i)\n",
    "    for img in os.listdir(path):\n",
    "        img_array=imread(os.path.join(path,img))\n",
    "        img_resized=resize(img_array,(32,55,3))\n",
    "        flat_data_arr.append(img_resized.flatten())\n",
    "        target_arr.append(categories.index(i))\n",
    "    print(f'loaded category:{i} successfully')\n",
    "x=np.array(flat_data_arr)\n",
    "y=np.array(target_arr)"
   ]
  },
  {
   "cell_type": "code",
   "execution_count": 5,
   "metadata": {},
   "outputs": [
    {
     "name": "stdout",
     "output_type": "stream",
     "text": [
      "(3000, 5280)\n",
      "(3000,)\n"
     ]
    }
   ],
   "source": [
    "#checking shape is okay \n",
    "print(x.shape)\n",
    "print(y.shape)"
   ]
  },
  {
   "cell_type": "code",
   "execution_count": 4,
   "metadata": {},
   "outputs": [],
   "source": [
    "from sklearn.model_selection import StratifiedKFold, GridSearchCV\n",
    "from sklearn.neighbors import KNeighborsClassifier\n",
    "from sklearn.metrics import accuracy_score,f1_score, confusion_matrix \n",
    "import seaborn as sns \n",
    "\n",
    "#initialise the stratfield k-fold 4 crossval \n",
    "#with nsplits defining the no. of folds in this case 10\n",
    "skf = StratifiedKFold(n_splits=10, shuffle=True, random_state=42)\n",
    "#Hyperparameters for tuning\n",
    "param_grid = [{'max_depth':list(range(1,10))}]\n",
    "#define Model\n",
    "DTmodel = DecisionTreeClassifier()\n",
    "gridsearch = GridSearchCV(DTmodel, param_grid,cv=skf)\n",
    "\n",
    "f1List = []\n",
    "accuracyList = []\n",
    "cmList = []"
   ]
  },
  {
   "cell_type": "code",
   "execution_count": 5,
   "metadata": {},
   "outputs": [
    {
     "name": "stdout",
     "output_type": "stream",
     "text": [
      "Fold1:accuracy = 0.5233333333333333, f1score = 0.523011413487338\n",
      "Fold2:accuracy = 0.57, f1score = 0.5729451299919178\n",
      "Fold3:accuracy = 0.5533333333333333, f1score = 0.5525428693535143\n",
      "Fold4:accuracy = 0.55, f1score = 0.5240332190555949\n",
      "Fold5:accuracy = 0.5266666666666666, f1score = 0.5305285755784945\n",
      "Fold6:accuracy = 0.53, f1score = 0.5261044176706827\n",
      "Fold7:accuracy = 0.5533333333333333, f1score = 0.5570185314016421\n",
      "Fold8:accuracy = 0.5433333333333333, f1score = 0.528356703635073\n",
      "Fold9:accuracy = 0.5433333333333333, f1score = 0.5329618863049096\n",
      "Fold10:accuracy = 0.5366666666666666, f1score = 0.5262368039370557\n"
     ]
    }
   ],
   "source": [
    "\n",
    "#SUMMARY ... Iterate through each fold train the model with optimised parameters and calculate metrics\n",
    "#spltting the data into training and validation sets for each fold of the cross validation\n",
    "for fold, (train_index, val_index) in enumerate(skf.split(x,y)):\n",
    "    trainX, trainY = x[train_index],y[train_index]\n",
    "    valX, valY = x[val_index], y[val_index]\n",
    "##intialize the DECISON TREE model with new found best hyperparameters \n",
    "    gridsearch.fit(trainX, trainY)\n",
    "    best_params = gridsearch.best_params_\n",
    "    DTmodel = DecisionTreeClassifier(max_depth=best_params['max_depth'])\n",
    "    #train thr decision tree based on training set    \n",
    "    DTmodel.fit(trainX, trainY)\n",
    "#predict on validation set and calculate metrics    \n",
    "    predY = DTmodel.predict(valX)\n",
    "    acc = accuracy_score(valY,predY)\n",
    "    accuracyList.append(acc)\n",
    "    f1 = f1_score(valY,predY,average='macro')\n",
    "    f1List.append(f1)\n",
    "    cm = confusion_matrix(valY,predY)\n",
    "    cmList.append(cm)\n",
    "    \n",
    "    print(f\"Fold{fold+1}:accuracy = {acc}, f1score = {f1}\")"
   ]
  },
  {
   "cell_type": "code",
   "execution_count": 6,
   "metadata": {},
   "outputs": [
    {
     "data": {
      "image/png": "[encoded data removed]",
      "text/plain": [
       "<Figure size 640x480 with 2 Axes>"
      ]
     },
     "metadata": {},
     "output_type": "display_data"
    },
    {
     "data": {
      "text/plain": [
       "<Figure size 640x480 with 0 Axes>"
      ]
     },
     "metadata": {},
     "output_type": "display_data"
    },
    {
     "name": "stdout",
     "output_type": "stream",
     "text": [
      "Mean Accuracy: 0.5429999999999999\n",
      "Mean f1 Score: 0.5373739550416222\n"
     ]
    }
   ],
   "source": [
    "import matplotlib.pyplot as plt\n",
    "from sklearn import svm\n",
    "from sklearn.model_selection import GridSearchCV\n",
    "from sklearn.model_selection import train_test_split\n",
    "from sklearn.metrics import accuracy_score\n",
    "from sklearn.metrics import classification_report\n",
    "from sklearn.model_selection import StratifiedKFold, GridSearchCV\n",
    "from sklearn.neighbors import KNeighborsClassifier\n",
    "from sklearn.metrics import accuracy_score,f1_score, confusion_matrix \n",
    "import seaborn as sns \n",
    "\n",
    "mean_acc = sum(accuracyList)/len(accuracyList)\n",
    "mean_f1 = sum(f1List)/len(f1List)\n",
    "meanCM = sum(cmList)/len(cmList)\n",
    "\n",
    "ax = plt.axes()\n",
    "sns.heatmap(meanCM,ax=ax,annot=True,fmt='g',cmap='Purples',square=True)\n",
    "fig = plt.figure()\n",
    "fig.patch.set_facecolor('xkcd:grey')\n",
    "ax.set_title('mean Decision tree Model confusion matrix')\n",
    "ax.set_xticklabels(categories)\n",
    "ax.set_yticklabels(categories)\n",
    "ax.set_xlabel('Predicted')\n",
    "ax.set_ylabel('Actual')\n",
    "plt.show()\n",
    "print(f\"Mean Accuracy: {mean_acc}\")\n",
    "print(f\"Mean f1 Score: {mean_f1}\")"
   ]
  },
  {
   "cell_type": "code",
   "execution_count": null,
   "metadata": {},
   "outputs": [],
   "source": []
  }
 ],
 "metadata": {
  "kernelspec": {
   "display_name": "Python 3 (ipykernel)",
   "language": "python",
   "name": "python3"
  },
  "language_info": {
   "codemirror_mode": {
    "name": "ipython",
    "version": 3
   },
   "file_extension": ".py",
   "mimetype": "text/x-python",
   "name": "python",
   "nbconvert_exporter": "python",
   "pygments_lexer": "ipython3",
   "version": "3.11.0"
  }
 },
 "nbformat": 4,
 "nbformat_minor": 2
}
