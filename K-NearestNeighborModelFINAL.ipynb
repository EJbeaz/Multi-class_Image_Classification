{
 "cells": [
  {
   "cell_type": "code",
   "execution_count": 1,
   "id": "833d60a4",
   "metadata": {},
   "outputs": [],
   "source": [
    "import os\n",
    "import cv2\n",
    "import numpy as np\n",
    "from sklearn.model_selection import KFold\n",
    "from sklearn.neighbors import KNeighborsClassifier\n",
    "from sklearn.preprocessing import LabelEncoder\n",
    "from sklearn.model_selection import train_test_split\n",
    "from sklearn.metrics import classification_report\n",
    "from sklearn.model_selection import GridSearchCV\n",
    "\n",
    "from imutils import paths #to extract name of each animal-image from there particular directory"
   ]
  },
  {
   "cell_type": "code",
   "execution_count": 2,
   "id": "dc96a8bf",
   "metadata": {},
   "outputs": [],
   "source": [
    "# animal categories\n",
    "categories = ['dog', 'panda', 'cat']\n",
    "\n",
    "class SimplePreprocessor:\n",
    "    def __init__(self, width, height, inter=cv2.INTER_AREA):\n",
    "        # store target image width, height, and interpolation method used when resizing\n",
    "        self.width = width\n",
    "        self.height = height\n",
    "        self.inter = inter\n",
    "\n",
    "    def preprocess(self, image):\n",
    "    # resize image to a fixed size, ignoring aspect ratio\n",
    "        return cv2.resize(image, (self.width, self.height),interpolation=self.inter)"
   ]
  },
  {
   "cell_type": "code",
   "execution_count": 3,
   "id": "2d6602ef",
   "metadata": {},
   "outputs": [],
   "source": [
    "class SimpleDatasetLoader:\n",
    "    def __init__(self, preprocessors=None):\n",
    "        # store image preprocessor\n",
    "        self.preprocessors = preprocessors\n",
    "# if preprocessors are None, initialize them as an empty list\n",
    "        if self.preprocessors is None:\n",
    "            self.preprocessors = []\n",
    "\n",
    "    def load(self, imagePaths, verbose=-1):\n",
    "        # initialize list of features and labels\n",
    "        data = []\n",
    "        labels = []\n",
    "# loop over input images\n",
    "        for (i, imagePath) in enumerate(imagePaths):\n",
    "            # load image and extract class label assuming that our path has following format: /path/to/dataset/{class}/{image}.jpg\n",
    "            image = cv2.imread(imagePath)\n",
    "            label = imagePath.split(os.path.sep)[-2]\n",
    "# check to see if our preprocessors are not None\n",
    "            if self.preprocessors is not None:\n",
    "                # loop over preprocessors and apply each to image\n",
    "                for p in self.preprocessors:\n",
    "                    image = p.preprocess(image)\n",
    "# treat our processed image as a \"feature vector\"\n",
    "# by updating data list followed by the labels\n",
    "            data.append(image)\n",
    "            labels.append(label)\n",
    "\n",
    "            # show an update every `verbose` images\n",
    "            if verbose > 0 and i > 0 and (i + 1) % verbose == 0:\n",
    "                print(\"[INFO] processed {}/{}\".format(i + 1,\n",
    "                    len(imagePaths)))\n",
    "\n",
    "        # return a tuple of data and labels\n",
    "        return (np.array(data), np.array(labels))"
   ]
  },
  {
   "cell_type": "code",
   "execution_count": 17,
   "id": "43fc9497",
   "metadata": {},
   "outputs": [],
   "source": []
  },
  {
   "cell_type": "code",
   "execution_count": 4,
   "id": "24044d29",
   "metadata": {},
   "outputs": [
    {
     "name": "stdout",
     "output_type": "stream",
     "text": [
      "[INFO] loading images...\n",
      "[INFO] processed 500/3000\n",
      "[INFO] processed 1000/3000\n",
      "[INFO] processed 1500/3000\n",
      "[INFO] processed 2000/3000\n",
      "[INFO] processed 2500/3000\n",
      "[INFO] processed 3000/3000\n"
     ]
    }
   ],
   "source": [
    "print(\"[INFO] loading images...\")\n",
    "imagePaths = list(paths.list_images('/Users/ejbeazleigh/Downloads/Animals/'))\n",
    "\n",
    "# initialize image preprocessor, load dataset from disk, and reshape data matrix\n",
    "sp = SimplePreprocessor(32, 32)\n",
    "sdl = SimpleDatasetLoader(preprocessors=[sp])\n",
    "(data, labels) = sdl.load(imagePaths, verbose=500)\n",
    "data = data.reshape((data.shape[0], 3072))\n"
   ]
  },
  {
   "cell_type": "code",
   "execution_count": 19,
   "id": "6515f85a",
   "metadata": {},
   "outputs": [],
   "source": [
    "\n",
    "\n"
   ]
  },
  {
   "cell_type": "code",
   "execution_count": 5,
   "id": "f812c322",
   "metadata": {},
   "outputs": [
    {
     "name": "stdout",
     "output_type": "stream",
     "text": [
      "Fold1:accuracy = 0.52, f1score = 0.5251566951566952\n",
      "Fold2:accuracy = 0.51, f1score = 0.5157196425426599\n",
      "Fold3:accuracy = 0.5133333333333333, f1score = 0.5203910536723951\n",
      "Fold4:accuracy = 0.5, f1score = 0.505737138135892\n",
      "Fold5:accuracy = 0.5, f1score = 0.5038333199768178\n",
      "Fold6:accuracy = 0.48333333333333334, f1score = 0.4700093970099151\n",
      "Fold7:accuracy = 0.5066666666666667, f1score = 0.5081070922600978\n",
      "Fold8:accuracy = 0.52, f1score = 0.5245716997394849\n",
      "Fold9:accuracy = 0.49, f1score = 0.49769753081424045\n",
      "Fold10:accuracy = 0.44666666666666666, f1score = 0.45285402905058697\n"
     ]
    }
   ],
   "source": [
    "from sklearn.model_selection import StratifiedKFold, GridSearchCV\n",
    "from sklearn.neighbors import KNeighborsClassifier\n",
    "from sklearn.metrics import accuracy_score,f1_score, confusion_matrix \n",
    "import seaborn as sns \n",
    "\n",
    " #initialise the stratfield k-fold 4 crossval with nsplits defining the no. of folds in this case 10\n",
    "skf = StratifiedKFold(n_splits=10, shuffle=True, random_state=42)\n",
    "param_grid = {'n_neighbors':[3,5,7], 'weights': ['uniform','distance']}\n",
    "knn = KNeighborsClassifier()\n",
    "gridsearch = GridSearchCV(knn, param_grid,cv=skf, n_jobs=1)\n",
    "\n",
    "f1List = []\n",
    "accuracyList = []\n",
    "cmList = []\n",
    "#spltting the data into training and validation sets for each fold of the cross validation\n",
    "for fold, (train_index, val_index) in enumerate(skf.split(data,labels)):\n",
    "    trainX, trainY = data[train_index],labels[train_index]\n",
    "    valX, valY = data[val_index], labels[val_index]\n",
    "#fit the gridsearch to the training set to help find optimal hyperparamters    \n",
    "    gridsearch.fit(trainX, trainY)\n",
    "    best_params = gridsearch.best_params_\n",
    "#intialize the KNN model with new found best hyperparameters    \n",
    "    knn = KNeighborsClassifier(n_neighbors=best_params['n_neighbors'],weights=best_params['weights'])\n",
    "#train thr knn model based on training set    \n",
    "    knn.fit(trainX, trainY)\n",
    "#use validation set to predict and quantify scoring metrics   \n",
    "    predY = knn.predict(valX)\n",
    "    acc = accuracy_score(valY,predY)\n",
    "    accuracyList.append(acc)\n",
    "    f1 = f1_score(valY,predY,average='macro')\n",
    "    f1List.append(f1)\n",
    "    cm = confusion_matrix(valY,predY)\n",
    "    cmList.append(cm)\n",
    "#Printing the accuracy and the f1 score for each of the ten folds    \n",
    "    print(f\"Fold{fold+1}:accuracy = {acc}, f1score = {f1}\")"
   ]
  },
  {
   "cell_type": "raw",
   "id": "0e62fe5e",
   "metadata": {},
   "source": [
    "\n",
    "\n",
    "\n",
    "\n",
    "\n"
   ]
  },
  {
   "cell_type": "code",
   "execution_count": 16,
   "id": "64f90f9b",
   "metadata": {},
   "outputs": [
    {
     "data": {
      "image/png": "[encoded data removed]",
      "text/plain": [
       "<Figure size 640x480 with 2 Axes>"
      ]
     },
     "metadata": {},
     "output_type": "display_data"
    },
    {
     "data": {
      "text/plain": [
       "<Figure size 640x480 with 0 Axes>"
      ]
     },
     "metadata": {},
     "output_type": "display_data"
    },
    {
     "name": "stdout",
     "output_type": "stream",
     "text": [
      "Mean Accuracy: 0.499\n",
      "Mean f1 Score: 0.5024077598358785\n"
     ]
    }
   ],
   "source": [
    "import matplotlib.pyplot as plt\n",
    "from sklearn import svm\n",
    "from sklearn.model_selection import GridSearchCV\n",
    "from sklearn.model_selection import train_test_split\n",
    "from sklearn.metrics import accuracy_score\n",
    "from sklearn.metrics import classification_report\n",
    "from sklearn.model_selection import StratifiedKFold, GridSearchCV\n",
    "from sklearn.neighbors import KNeighborsClassifier\n",
    "from sklearn.metrics import accuracy_score,f1_score, confusion_matrix \n",
    "import seaborn as sns \n",
    "mean_acc = sum(accuracyList)/len(accuracyList)\n",
    "\n",
    "mean_f1 = sum(f1List)/len(f1List)\n",
    "meanCM = sum(cmList)\n",
    "\n",
    "ax = plt.axes()\n",
    "sns.heatmap(meanCM,ax=ax,annot=True,fmt='g',cmap='Purples',square=True)\n",
    "fig = plt.figure()\n",
    "fig.patch.set_facecolor('xkcd:grey')\n",
    "ax.set_title('mean K-NN Model confusion matrix')\n",
    "ax.set_xticklabels(categories)\n",
    "ax.set_yticklabels(categories)\n",
    "ax.set_xlabel('Predicted')\n",
    "ax.set_ylabel('Actual')\n",
    "plt.show()\n",
    "print(f\"Mean Accuracy: {mean_acc}\")\n",
    "print(f\"Mean f1 Score: {mean_f1}\")\n"
   ]
  },
  {
   "cell_type": "code",
   "execution_count": null,
   "id": "59119a98",
   "metadata": {},
   "outputs": [],
   "source": []
  },
  {
   "cell_type": "code",
   "execution_count": null,
   "id": "ea80d953",
   "metadata": {},
   "outputs": [],
   "source": []
  }
 ],
 "metadata": {
  "kernelspec": {
   "display_name": "Python 3 (ipykernel)",
   "language": "python",
   "name": "python3"
  },
  "language_info": {
   "codemirror_mode": {
    "name": "ipython",
    "version": 3
   },
   "file_extension": ".py",
   "mimetype": "text/x-python",
   "name": "python",
   "nbconvert_exporter": "python",
   "pygments_lexer": "ipython3",
   "version": "3.11.0"
  }
 },
 "nbformat": 4,
 "nbformat_minor": 5
}
